{
 "cells": [
  {
   "cell_type": "code",
   "execution_count": 1,
   "id": "combined-honduras",
   "metadata": {},
   "outputs": [],
   "source": [
    "#variable\n"
   ]
  },
  {
   "cell_type": "code",
   "execution_count": 2,
   "id": "sized-vancouver",
   "metadata": {},
   "outputs": [],
   "source": [
    "# create a function to find max value of 3 numbers.\n",
    "#find maximum number from variable a, b, c"
   ]
  },
  {
   "cell_type": "code",
   "execution_count": 59,
   "id": "stuffed-appointment",
   "metadata": {},
   "outputs": [],
   "source": [
    "import pandas as pd\n",
    "df = pd.read_csv(\"C:/Users/joell/OneDrive/Documents/Projects/python/Iris.csv\", encoding=\"UTF-8\", low_memory=False)"
   ]
  },
  {
   "cell_type": "code",
   "execution_count": 60,
   "id": "editorial-playlist",
   "metadata": {},
   "outputs": [
    {
     "data": {
      "text/html": [
       "<div>\n",
       "<style scoped>\n",
       "    .dataframe tbody tr th:only-of-type {\n",
       "        vertical-align: middle;\n",
       "    }\n",
       "\n",
       "    .dataframe tbody tr th {\n",
       "        vertical-align: top;\n",
       "    }\n",
       "\n",
       "    .dataframe thead th {\n",
       "        text-align: right;\n",
       "    }\n",
       "</style>\n",
       "<table border=\"1\" class=\"dataframe\">\n",
       "  <thead>\n",
       "    <tr style=\"text-align: right;\">\n",
       "      <th></th>\n",
       "      <th>sepal-length</th>\n",
       "      <th>sepal-width</th>\n",
       "      <th>petal-length</th>\n",
       "      <th>petal-width</th>\n",
       "      <th>species</th>\n",
       "    </tr>\n",
       "  </thead>\n",
       "  <tbody>\n",
       "    <tr>\n",
       "      <th>0</th>\n",
       "      <td>5.1</td>\n",
       "      <td>3.5</td>\n",
       "      <td>1.4</td>\n",
       "      <td>0.2</td>\n",
       "      <td>setosa</td>\n",
       "    </tr>\n",
       "    <tr>\n",
       "      <th>1</th>\n",
       "      <td>4.9</td>\n",
       "      <td>3.0</td>\n",
       "      <td>1.4</td>\n",
       "      <td>0.2</td>\n",
       "      <td>setosa</td>\n",
       "    </tr>\n",
       "    <tr>\n",
       "      <th>2</th>\n",
       "      <td>4.7</td>\n",
       "      <td>3.2</td>\n",
       "      <td>1.3</td>\n",
       "      <td>0.2</td>\n",
       "      <td>setosa</td>\n",
       "    </tr>\n",
       "    <tr>\n",
       "      <th>3</th>\n",
       "      <td>4.6</td>\n",
       "      <td>3.1</td>\n",
       "      <td>1.5</td>\n",
       "      <td>0.2</td>\n",
       "      <td>setosa</td>\n",
       "    </tr>\n",
       "    <tr>\n",
       "      <th>4</th>\n",
       "      <td>5.0</td>\n",
       "      <td>3.6</td>\n",
       "      <td>1.4</td>\n",
       "      <td>0.2</td>\n",
       "      <td>setosa</td>\n",
       "    </tr>\n",
       "  </tbody>\n",
       "</table>\n",
       "</div>"
      ],
      "text/plain": [
       "   sepal-length  sepal-width  petal-length  petal-width species\n",
       "0           5.1          3.5           1.4          0.2  setosa\n",
       "1           4.9          3.0           1.4          0.2  setosa\n",
       "2           4.7          3.2           1.3          0.2  setosa\n",
       "3           4.6          3.1           1.5          0.2  setosa\n",
       "4           5.0          3.6           1.4          0.2  setosa"
      ]
     },
     "execution_count": 60,
     "metadata": {},
     "output_type": "execute_result"
    }
   ],
   "source": [
    "df.head()"
   ]
  },
  {
   "cell_type": "code",
   "execution_count": 61,
   "id": "reported-trash",
   "metadata": {},
   "outputs": [
    {
     "name": "stdout",
     "output_type": "stream",
     "text": [
      "sepal-length    float64\n",
      "sepal-width     float64\n",
      "petal-length    float64\n",
      "petal-width     float64\n",
      "species          object\n",
      "dtype: object\n"
     ]
    }
   ],
   "source": [
    "print(df.dtypes)"
   ]
  },
  {
   "cell_type": "code",
   "execution_count": 62,
   "id": "rational-entrepreneur",
   "metadata": {},
   "outputs": [
    {
     "name": "stdout",
     "output_type": "stream",
     "text": [
      "Index(['sepal-length', 'sepal-width', 'petal-length', 'petal-width',\n",
      "       'species'],\n",
      "      dtype='object')\n"
     ]
    }
   ],
   "source": [
    "print(df.columns)"
   ]
  },
  {
   "cell_type": "code",
   "execution_count": 63,
   "id": "matched-honduras",
   "metadata": {},
   "outputs": [
    {
     "name": "stdout",
     "output_type": "stream",
     "text": [
      "     sepal-width  petal-length\n",
      "0            3.5           1.4\n",
      "1            3.0           1.4\n",
      "2            3.2           1.3\n",
      "3            3.1           1.5\n",
      "4            3.6           1.4\n",
      "..           ...           ...\n",
      "145          3.0           5.2\n",
      "146          2.5           5.0\n",
      "147          3.0           5.2\n",
      "148          3.4           5.4\n",
      "149          3.0           5.1\n",
      "\n",
      "[150 rows x 2 columns]\n"
     ]
    }
   ],
   "source": [
    "print(df[['sepal-width', 'petal-length']])"
   ]
  },
  {
   "cell_type": "code",
   "execution_count": 74,
   "id": "opposite-tunnel",
   "metadata": {},
   "outputs": [
    {
     "name": "stdout",
     "output_type": "stream",
     "text": [
      "['sepal-length', 'sepal-width', 'petal-length', 'petal-width', 'species']\n",
      "['sepal-length', 'sepal-width', 'petal-length', 'petal-width', 'species']\n"
     ]
    }
   ],
   "source": [
    "print(df.columns.tolist())\n",
    "myfeature = df.columns.tolist()\n",
    "print(myfeature)\n",
    "# can use append to add elemnt to a list"
   ]
  },
  {
   "cell_type": "code",
   "execution_count": 75,
   "id": "actual-mauritius",
   "metadata": {},
   "outputs": [],
   "source": [
    "myTargetFeature = ['species']"
   ]
  },
  {
   "cell_type": "code",
   "execution_count": 76,
   "id": "stainless-chemical",
   "metadata": {},
   "outputs": [
    {
     "name": "stdout",
     "output_type": "stream",
     "text": [
      "       species\n",
      "0       setosa\n",
      "1       setosa\n",
      "2       setosa\n",
      "3       setosa\n",
      "4       setosa\n",
      "..         ...\n",
      "145  virginica\n",
      "146  virginica\n",
      "147  virginica\n",
      "148  virginica\n",
      "149  virginica\n",
      "\n",
      "[150 rows x 1 columns]\n"
     ]
    }
   ],
   "source": [
    "print(df[myTargetFeature])"
   ]
  },
  {
   "cell_type": "code",
   "execution_count": 77,
   "id": "cognitive-brunei",
   "metadata": {},
   "outputs": [
    {
     "name": "stdout",
     "output_type": "stream",
     "text": [
      "0      False\n",
      "1      False\n",
      "2      False\n",
      "3      False\n",
      "4      False\n",
      "       ...  \n",
      "145     True\n",
      "146     True\n",
      "147     True\n",
      "148     True\n",
      "149     True\n",
      "Name: sepal-length, Length: 150, dtype: bool\n",
      "     sepal-length  sepal-width  petal-length  petal-width    species\n",
      "5             5.4          3.9           1.7          0.4     setosa\n",
      "10            5.4          3.7           1.5          0.2     setosa\n",
      "14            5.8          4.0           1.2          0.2     setosa\n",
      "15            5.7          4.4           1.5          0.4     setosa\n",
      "16            5.4          3.9           1.3          0.4     setosa\n",
      "..            ...          ...           ...          ...        ...\n",
      "145           6.7          3.0           5.2          2.3  virginica\n",
      "146           6.3          2.5           5.0          1.9  virginica\n",
      "147           6.5          3.0           5.2          2.0  virginica\n",
      "148           6.2          3.4           5.4          2.3  virginica\n",
      "149           5.9          3.0           5.1          1.8  virginica\n",
      "\n",
      "[109 rows x 5 columns]\n"
     ]
    }
   ],
   "source": [
    "#how to remove missing values\n",
    "#how to delete some rows\n",
    "#replace missing values with a value\n",
    "myvar = df['sepal-length']>5.1\n",
    "print(myvar)\n",
    "print(df.loc[df['sepal-length']>5.1])"
   ]
  },
  {
   "cell_type": "code",
   "execution_count": 78,
   "id": "owned-brush",
   "metadata": {},
   "outputs": [
    {
     "name": "stderr",
     "output_type": "stream",
     "text": [
      "<ipython-input-78-d77cada649a2>:3: SettingWithCopyWarning: \n",
      "A value is trying to be set on a copy of a slice from a DataFrame\n",
      "\n",
      "See the caveats in the documentation: https://pandas.pydata.org/pandas-docs/stable/user_guide/indexing.html#returning-a-view-versus-a-copy\n",
      "  modf['species'][myvar2]='1'\n"
     ]
    }
   ],
   "source": [
    "modf = df.copy(deep=True)\n",
    "myvar2 = modf['species'] == 'setosa'\n",
    "modf['species'][myvar2]='1'"
   ]
  },
  {
   "cell_type": "code",
   "execution_count": 79,
   "id": "fleet-payday",
   "metadata": {},
   "outputs": [
    {
     "name": "stdout",
     "output_type": "stream",
     "text": [
      "     sepal-length  sepal-width  petal-length  petal-width    species\n",
      "0             5.1          3.5           1.4          0.2          1\n",
      "1             4.9          3.0           1.4          0.2          1\n",
      "2             4.7          3.2           1.3          0.2          1\n",
      "3             4.6          3.1           1.5          0.2          1\n",
      "4             5.0          3.6           1.4          0.2          1\n",
      "..            ...          ...           ...          ...        ...\n",
      "145           6.7          3.0           5.2          2.3  virginica\n",
      "146           6.3          2.5           5.0          1.9  virginica\n",
      "147           6.5          3.0           5.2          2.0  virginica\n",
      "148           6.2          3.4           5.4          2.3  virginica\n",
      "149           5.9          3.0           5.1          1.8  virginica\n",
      "\n",
      "[150 rows x 5 columns]\n"
     ]
    }
   ],
   "source": [
    "print(modf)"
   ]
  },
  {
   "cell_type": "code",
   "execution_count": 87,
   "id": "derived-variation",
   "metadata": {},
   "outputs": [
    {
     "name": "stdout",
     "output_type": "stream",
     "text": [
      "['setosa', 'versicolor', 'virginica']\n"
     ]
    }
   ],
   "source": [
    "target = df['species']\n",
    "unique = pd.unique(df['species']).tolist()\n",
    "print(unique)"
   ]
  },
  {
   "cell_type": "code",
   "execution_count": 88,
   "id": "classical-sandwich",
   "metadata": {},
   "outputs": [
    {
     "name": "stderr",
     "output_type": "stream",
     "text": [
      "<ipython-input-88-4cfd82a92c59>:3: SettingWithCopyWarning: \n",
      "A value is trying to be set on a copy of a slice from a DataFrame\n",
      "\n",
      "See the caveats in the documentation: https://pandas.pydata.org/pandas-docs/stable/user_guide/indexing.html#returning-a-view-versus-a-copy\n",
      "  modf['species'][myvar] = unique.index(v)\n"
     ]
    }
   ],
   "source": [
    "for v in unique:\n",
    "    myvar = df['species'] == v\n",
    "    modf['species'][myvar] = unique.index(v)"
   ]
  },
  {
   "cell_type": "code",
   "execution_count": 89,
   "id": "fewer-electronics",
   "metadata": {},
   "outputs": [
    {
     "name": "stdout",
     "output_type": "stream",
     "text": [
      "     sepal-length  sepal-width  petal-length  petal-width species\n",
      "0             5.1          3.5           1.4          0.2       0\n",
      "1             4.9          3.0           1.4          0.2       0\n",
      "2             4.7          3.2           1.3          0.2       0\n",
      "3             4.6          3.1           1.5          0.2       0\n",
      "4             5.0          3.6           1.4          0.2       0\n",
      "..            ...          ...           ...          ...     ...\n",
      "145           6.7          3.0           5.2          2.3       2\n",
      "146           6.3          2.5           5.0          1.9       2\n",
      "147           6.5          3.0           5.2          2.0       2\n",
      "148           6.2          3.4           5.4          2.3       2\n",
      "149           5.9          3.0           5.1          1.8       2\n",
      "\n",
      "[150 rows x 5 columns]\n"
     ]
    }
   ],
   "source": [
    "print(modf)"
   ]
  },
  {
   "cell_type": "code",
   "execution_count": null,
   "id": "together-fireplace",
   "metadata": {},
   "outputs": [],
   "source": [
    "# to replace missing values in dataset\n",
    "#for col in df.columns:\n",
    "# sum(df.[col].isna())\n",
    "#my_missing_index = df['species'].isna()\n"
   ]
  }
 ],
 "metadata": {
  "kernelspec": {
   "display_name": "Python 3",
   "language": "python",
   "name": "python3"
  },
  "language_info": {
   "codemirror_mode": {
    "name": "ipython",
    "version": 3
   },
   "file_extension": ".py",
   "mimetype": "text/x-python",
   "name": "python",
   "nbconvert_exporter": "python",
   "pygments_lexer": "ipython3",
   "version": "3.9.2"
  }
 },
 "nbformat": 4,
 "nbformat_minor": 5
}
